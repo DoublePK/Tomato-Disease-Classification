{
 "cells": [
  {
   "cell_type": "markdown",
   "metadata": {},
   "source": [
    "### Importing Necessary Libraries"
   ]
  },
  {
   "cell_type": "code",
   "execution_count": null,
   "metadata": {},
   "outputs": [],
   "source": [
    "from PyQt5.QtWidgets import QApplication, QWidget, QLabel, QPushButton, QMessageBox, QFileDialog, QVBoxLayout, QHBoxLayout\n",
    "from PyQt5.QtGui import QPixmap\n",
    "from PyQt5 import QtCore\n",
    "import tensorflow as tf\n",
    "import numpy as np\n",
    "import cv2\n",
    "import sys"
   ]
  },
  {
   "cell_type": "markdown",
   "metadata": {},
   "source": [
    "### Creating buttons for image uploading (in jpg, jpeg and png formats), prediction and quiting and labels to visualize image and its predicted disease (healthy if tomato has no disease)"
   ]
  },
  {
   "cell_type": "code",
   "execution_count": null,
   "metadata": {},
   "outputs": [],
   "source": [
    "class MainWindow(QWidget):\n",
    "    def __init__(self):\n",
    "        super().__init__()\n",
    "        self.setGeometry(200, 200, 600, 600)\n",
    "        self.setWindowTitle('Tomato Disease Classification')\n",
    "        self.initUI()\n",
    "    \n",
    "    def initUI(self):\n",
    "        self.image_label = QLabel()\n",
    "        self.predicted_label = QLabel()\n",
    "\n",
    "        self.upload_button = QPushButton('Upload Image')\n",
    "        self.upload_button.clicked.connect(self.click_upload)\n",
    "        self.upload_button.setFixedSize(QtCore.QSize(100, 25))\n",
    "        \n",
    "        self.predict_button = QPushButton('Predict')\n",
    "        self.predict_button.clicked.connect(self.click_predict)\n",
    "        self.predict_button.setFixedSize(QtCore.QSize(100, 25))\n",
    "\n",
    "        self.quit_button = QPushButton('Quit')\n",
    "        self.quit_button.clicked.connect(self.click_quit)\n",
    "        self.quit_button.setFixedSize(QtCore.QSize(100, 25))\n",
    "\n",
    "        self.vbox = QVBoxLayout()\n",
    "        self.vbox.addWidget(self.upload_button, 0, alignment=QtCore.Qt.AlignHCenter)\n",
    "        self.vbox.addWidget(self.predicted_label, 0, alignment=QtCore.Qt.AlignHCenter)\n",
    "        self.vbox.addWidget(self.image_label, 0, alignment=QtCore.Qt.AlignHCenter)\n",
    "        self.vbox.addWidget(self.predict_button, 0, alignment=QtCore.Qt.AlignHCenter)\n",
    "        self.vbox.addWidget(self.quit_button, 0, alignment=QtCore.Qt.AlignHCenter)\n",
    "\n",
    "        self.hbox = QHBoxLayout()\n",
    "        self.hbox.addStretch()\n",
    "        self.hbox.addLayout(self.vbox)\n",
    "        self.hbox.addStretch()\n",
    "\n",
    "        self.setLayout(self.hbox)\n",
    "        self.show()\n",
    "\n",
    "    def get_model(self):\n",
    "        self.model = tf.keras.models.load_model('model_tomato.h5')\n",
    "        return self.model\n",
    "\n",
    "    def process_image(self, img):\n",
    "        img = cv2.resize(img, (64, 64))\n",
    "        img = np.expand_dims(img , axis=0)\n",
    "        return img\n",
    "\n",
    "    def click_predict(self):\n",
    "        model = self.get_model()\n",
    "        image = self.process_image(self.image)\n",
    "        pred = model.predict(image)\n",
    "        label = self.decoder(pred)\n",
    "        self.predicted_label.setText(f'Predicted: {label}')\n",
    "        self.predicted_label.adjustSize()\n",
    "\n",
    "    def decoder(self, label):\n",
    "        pred = np.argmax(label, axis=1)\n",
    "        dic = {0:'Bacterial_spot', 1:'Early_blight', 2:'Late_blight', 3:'Leaf_Mold', 4:'Septoria_leaf_spot', 5:'Spider_mites Two-spotted_spider_mite',\\\n",
    "            6:'Target_Spot', 7:'Tomato_Yellow_Leaf_Curl_Virus', 8:'Tomato_mosaic_virus', 9:'healthy'}\n",
    "        return dic[pred[0]]\n",
    "\n",
    "    def closeEvent(self, event):\n",
    "        close_reply=QMessageBox.question(self,'Message','Are you sure you want to quit?',\\\n",
    "                                         QMessageBox.Yes|QMessageBox.No,QMessageBox.No )\n",
    "        if close_reply==QMessageBox.Yes:\n",
    "            event.accept()\n",
    "        else:\n",
    "            event.ignore()\n",
    "    \n",
    "    def click_quit(self):\n",
    "        quit_reply=QMessageBox.question(self,'Message','Are you sure you want to quit?',\\\n",
    "                                        QMessageBox.Yes|QMessageBox.No,QMessageBox.No )\n",
    "        if quit_reply==QMessageBox.Yes:\n",
    "            QApplication.instance().quit()\n",
    "        else:\n",
    "            pass\n",
    "\n",
    "   \n",
    "    def click_upload(self):\n",
    "        filename = QFileDialog.getOpenFileName(self, 'Open File', '.', \"Image file(*.jpg *.jpeg *.png *bmp)\")\n",
    "        imagepath = filename[0]\n",
    "        self.image = cv2.imread(imagepath)\n",
    "        self.pixmap = QPixmap(imagepath)\n",
    "        self.pixmap= self.pixmap.scaled(512, 512, QtCore.Qt.KeepAspectRatio)\n",
    "        self.image_label.setPixmap(self.pixmap)"
   ]
  },
  {
   "cell_type": "markdown",
   "metadata": {},
   "source": [
    "### Creating and calling our main function to actually create our GUI"
   ]
  },
  {
   "cell_type": "code",
   "execution_count": null,
   "metadata": {},
   "outputs": [],
   "source": [
    "def main():\n",
    "    app = QApplication(sys.argv)\n",
    "    win = MainWindow()\n",
    "    sys.exit(app.exec_())"
   ]
  },
  {
   "cell_type": "code",
   "execution_count": null,
   "metadata": {},
   "outputs": [],
   "source": [
    "if __name__ == '__main__':\n",
    "    main()"
   ]
  },
  {
   "cell_type": "code",
   "execution_count": null,
   "metadata": {},
   "outputs": [],
   "source": []
  }
 ],
 "metadata": {
  "kernelspec": {
   "display_name": "Python 3 (ipykernel)",
   "language": "python",
   "name": "python3"
  },
  "language_info": {
   "codemirror_mode": {
    "name": "ipython",
    "version": 3
   },
   "file_extension": ".py",
   "mimetype": "text/x-python",
   "name": "python",
   "nbconvert_exporter": "python",
   "pygments_lexer": "ipython3",
   "version": "3.8.10"
  }
 },
 "nbformat": 4,
 "nbformat_minor": 4
}
